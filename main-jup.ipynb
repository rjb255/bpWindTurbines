{
 "metadata": {
  "language_info": {
   "codemirror_mode": {
    "name": "ipython",
    "version": 3
   },
   "file_extension": ".py",
   "mimetype": "text/x-python",
   "name": "python",
   "nbconvert_exporter": "python",
   "pygments_lexer": "ipython3",
   "version": "3.8.2-final"
  },
  "orig_nbformat": 2,
  "kernelspec": {
   "name": "python3",
   "display_name": "Python 3.8.2 64-bit",
   "metadata": {
    "interpreter": {
     "hash": "2db524e06e9f5f4ffedc911c917cb75e12dbc923643829bf417064a77eb14d37"
    }
   }
  }
 },
 "nbformat": 4,
 "nbformat_minor": 2,
 "cells": [
  {
   "source": [
    "<h1> Import libraries here </h1>"
   ],
   "cell_type": "markdown",
   "metadata": {}
  },
  {
   "source": [
    "import sklearn as sk\n",
    "import numpy as np\n",
    "import pandas as pd\n",
    "from sklearn.model_selection import train_test_split\n",
    "from sklearn.preprocessing import LabelEncoder\n",
    "from sklearn.ensemble import RandomForestRegressor\n",
    "from sklearn.metrics import mean_absolute_error\n",
    "from sklearn import linear_model\n",
    "\n",
    "## For Data visualisation \n",
    "import matplotlib.pyplot as plt\n",
    "from matplotlib.colors import ListedColormap\n",
    "import seaborn as sn\n",
    "# from adspy_shared_utilities import plot_class_regions_for_classifier_subplot #Save to git first\n"
   ],
   "cell_type": "code",
   "metadata": {},
   "execution_count": 88,
   "outputs": []
  },
  {
   "source": [
    "<h2>1. DATA PROCESSING</h2>"
   ],
   "cell_type": "markdown",
   "metadata": {}
  },
  {
   "source": [
    "<h3>Functions</h3>"
   ],
   "cell_type": "markdown",
   "metadata": {}
  },
  {
   "cell_type": "code",
   "execution_count": 89,
   "metadata": {},
   "outputs": [],
   "source": [
    "def split(x, y, train = 0.8, test = 0): \n",
    "    valid = 1 - train - test\n",
    "    x_trainy, x_valid, y_trainy, y_valid = train_test_split(x, y, train_size = (train+test), test_size = valid)\n",
    "    if test > 0:\n",
    "        x_train, x_test, y_train, y_test = (\n",
    "            train_test_split(x_trainy, y_trainy, train_size = train/(train+test), test_size = test/(train+test)))\n",
    "    else:\n",
    "        x_train, y_train =  x_trainy, y_trainy\n",
    "        x_train, y_train =  x_trainy, y_trainy\n",
    "        x_test, y_test = 0, 0\n",
    "    return x_train, x_valid, x_test, y_train, y_valid, y_test\n",
    "\n",
    "def score_RandomForest(x_train, x_valid, y_train, y_valid):\n",
    "    model = RandomForestRegressor(n_estimators=100)\n",
    "    model.fit(x_train, y_train)\n",
    "    preds = model.predict(x_valid)\n",
    "    return model, mean_absolute_error(y_valid, preds)"
   ]
  },
  {
   "source": [
    "<h3> Preprocessing </h3>"
   ],
   "cell_type": "markdown",
   "metadata": {}
  },
  {
   "cell_type": "code",
   "execution_count": 112,
   "metadata": {},
   "outputs": [
    {
     "output_type": "stream",
     "name": "stdout",
     "text": [
      "10     9.60\n17    20.00\n14    20.00\n26    16.59\n13    16.00\n39    21.00\n1     22.00\n37    21.00\n54     5.00\n25    20.00\n12    14.00\n35     6.30\nName: Single Blade Weight (te), dtype: float64\n"
     ]
    }
   ],
   "source": [
    "dataPure = pd.read_excel(\"Digital_Data.xlsx\")\n",
    "data = dataPure.copy()\n",
    "data = data.replace(to_replace = 0, value = np.NaN)\n",
    "label_encoder = LabelEncoder()\n",
    "s = (data.dtypes == 'object')\n",
    "cat_cols = list(s[s].index)\n",
    "for col in cat_cols:\n",
    "    data[col] = label_encoder.fit_transform(data[col].astype(str))\n",
    "\n",
    "##Dropping Features HERE\n",
    "data = data.drop([\"Project Ref No.\", \"Blade length (m)\", \"Tower height (m)\",\"Built duration\"], axis = 1)\n",
    "\n",
    "data_sets = [data.drop([\"Single Blade Weight (te)\"], axis = 1), data.drop([\"Nacelle Weights\"], axis = 1)]\n",
    "X = []\n",
    "Y = []\n",
    "for i in range(2):\n",
    "    data_sets[i] = data_sets[i].dropna()\n",
    "    x = data_sets[i].drop(columns = data_sets[i].columns[4])\n",
    "    y = data_sets[i][data_sets[i].columns[4]]\n",
    "    x_train, x_valid, x_test, y_train, y_valid, y_test = split(x,y)\n",
    "    X.append([x_train, x_valid, x_test])\n",
    "    Y.append([y_train, y_valid, y_test])\n",
    "print(Y[1][1])"
   ]
  },
  {
   "source": [
    "<h3>Random Forrest</h3>"
   ],
   "cell_type": "markdown",
   "metadata": {}
  },
  {
   "cell_type": "code",
   "execution_count": 128,
   "metadata": {},
   "outputs": [
    {
     "output_type": "stream",
     "name": "stdout",
     "text": [
      "16.599079999999997\n3.0551250000000008\n"
     ]
    }
   ],
   "source": [
    "for i in range(2):\n",
    "    model, mae = score_RandomForest(X[i][0], X[i][1], Y[i][0], Y[i][1])\n",
    "    print(mae)"
   ]
  }
 ]
}