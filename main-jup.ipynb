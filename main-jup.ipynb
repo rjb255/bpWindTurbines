{
 "metadata": {
  "language_info": {
   "codemirror_mode": {
    "name": "ipython",
    "version": 3
   },
   "file_extension": ".py",
   "mimetype": "text/x-python",
   "name": "python",
   "nbconvert_exporter": "python",
   "pygments_lexer": "ipython3",
   "version": "3.8.5-final"
  },
  "orig_nbformat": 2,
  "kernelspec": {
   "name": "python3",
   "display_name": "Python 3",
   "language": "python"
  }
 },
 "nbformat": 4,
 "nbformat_minor": 2,
 "cells": [
  {
   "source": [
    "<h1> Import libraries here </h1>"
   ],
   "cell_type": "markdown",
   "metadata": {}
  },
  {
   "source": [
    "import sklearn as sk\n",
    "import numpy as np\n",
    "import pandas as pd\n",
    "from sklearn.model_selection import train_test_split\n",
    "from sklearn.preprocessing import LabelEncoder\n",
    "from sklearn.ensemble import RandomForestRegressor\n",
    "from sklearn.metrics import mean_absolute_error\n",
    "from sklearn import linear_model\n",
    "\n",
    "## For Data visualisation \n",
    "import matplotlib.pyplot as plt\n",
    "from matplotlib.colors import ListedColormap\n",
    "import seaborn as sn\n",
    "# from adspy_shared_utilities import plot_class_regions_for_classifier_subplot #Save to git first\n"
   ],
   "cell_type": "code",
   "metadata": {},
   "execution_count": 27,
   "outputs": []
  },
  {
   "source": [
    "<h2>1. DATA PROCESSING</h2>"
   ],
   "cell_type": "markdown",
   "metadata": {}
  },
  {
   "source": [
    "<h3>Functions</h3>"
   ],
   "cell_type": "markdown",
   "metadata": {}
  },
  {
   "cell_type": "code",
   "execution_count": 28,
   "metadata": {},
   "outputs": [],
   "source": [
    "def split(x, y, train = 0.8, test = 0): \n",
    "    valid = 1 - train - test\n",
    "    x_trainy, x_valid, y_trainy, y_valid = train_test_split(x, y, train_size = (train+test), test_size = valid)\n",
    "    if test > 0:\n",
    "        x_train, x_test, y_train, y_test = (\n",
    "            train_test_split(x_trainy, y_trainy, train_size = train/(train+test), test_size = test/(train+test)))\n",
    "    else:\n",
    "        x_train, y_train =  x_trainy, y_trainy\n",
    "        x_train, y_train =  x_trainy, y_trainy\n",
    "        x_test, y_test = 0, 0\n",
    "    return x_train, x_valid, x_test, y_train, y_valid, y_test\n",
    "\n",
    "def score_RandomForest(x_train, x_valid, y_train, y_valid):\n",
    "    model = RandomForestRegressor(n_estimators=100)\n",
    "    model.fit(x_train, y_train)\n",
    "    preds = model.predict(x_valid)\n",
    "    return model, mean_absolute_error(y_valid, preds)\n",
    "\n",
    "## Keep getting different variables with the highest importance??\n",
    "def LinReg (X, y, function):\n",
    "    feature_list, importances, feature_importances = function\n",
    "    sorted_by_second = sorted(feature_importances, key=lambda tup: tup[1], reverse=True)\n",
    "    ## Edit ind_var to only use indepent variables \n",
    "    ind_var = ['Operator', 'Water depth', 'a1', 'Turbine rating (kW)', 'Blade length (m)', 'Tower height (m)', 'Built duration', 'Type', 'Metocean', 'Region']\n",
    "    X = X[ind_var]\n",
    "    regr = linear_model.LinearRegression()\n",
    "    regr.fit(X,y)\n",
    "    pass\n",
    "\n",
    "def feature_importance(model, x_train):\n",
    "    feature_list = list(x_train.columns)\n",
    "    importances = model.feature_importances_\n",
    "    feature_importances = [(feature, round(importance, 2)) for feature, importance in zip(feature_list, importances)]\n",
    "    # Filter importance > 0.1 only\n",
    "    feature_importances = [item for item in feature_importances if item[1] > 0.1]\n",
    "    return feature_list, importances, feature_importances\n"
   ]
  },
  {
   "source": [
    "<h3> Preprocessing </h3>"
   ],
   "cell_type": "markdown",
   "metadata": {}
  },
  {
   "cell_type": "code",
   "execution_count": 29,
   "metadata": {},
   "outputs": [],
   "source": [
    "dataPure = pd.read_excel(\"Digital_Data.xlsx\")\n",
    "data = dataPure.copy()\n",
    "data = data.replace(to_replace = 0, value = np.NaN)\n",
    "label_encoder = LabelEncoder()\n",
    "s = (data.dtypes == 'object')\n",
    "cat_cols = list(s[s].index)\n",
    "for col in cat_cols:\n",
    "    data[col] = label_encoder.fit_transform(data[col].astype(str))\n",
    "\n",
    "##Dropping Features HERE\n",
    "data = data.drop([\"Project Ref No.\", \"Blade length (m)\", \"Tower height (m)\",\"Built duration\"], axis = 1)\n",
    "\n",
    "data_sets = [data.drop([\"Single Blade Weight (te)\"], axis = 1), data.drop([\"Nacelle Weights\"], axis = 1)]\n",
    "X = []\n",
    "Y = []\n",
    "for i in range(2):\n",
    "    data_sets[i] = data_sets[i].dropna()\n",
    "    x = data_sets[i].drop(columns = data_sets[i].columns[4])\n",
    "    y = data_sets[i][data_sets[i].columns[4]]\n",
    "    x_train, x_valid, x_test, y_train, y_valid, y_test = split(x,y)\n",
    "    X.append([x_train, x_valid, x_test])\n",
    "    Y.append([y_train, y_valid, y_test])"
   ]
  },
  {
   "source": [
    "<h3>Random Forrest</h3>"
   ],
   "cell_type": "markdown",
   "metadata": {}
  },
  {
   "cell_type": "code",
   "execution_count": 30,
   "metadata": {},
   "outputs": [
    {
     "output_type": "stream",
     "name": "stdout",
     "text": [
      "24.02532\n3.4602083333333336\n"
     ]
    }
   ],
   "source": [
    "model = []\n",
    "for i in range(2):\n",
    "    m, mae = score_RandomForest(X[i][0], X[i][1], Y[i][0], Y[i][1])\n",
    "    model.append(m)\n",
    "    print(mae)"
   ]
  },
  {
   "source": [
    "<h3>Lin Regression and Independent Variables</h3>\n"
   ],
   "cell_type": "markdown",
   "metadata": {}
  },
  {
   "cell_type": "code",
   "execution_count": 31,
   "metadata": {},
   "outputs": [
    {
     "output_type": "stream",
     "name": "stdout",
     "text": [
      "[('a1', 0.48), ('Turbine rating (kW)', 0.26)]\n\n\n[('Water depth', 0.2), ('a1', 0.29), ('Turbine rating (kW)', 0.24), ('Region', 0.12)]\n"
     ]
    }
   ],
   "source": [
    "feature_import = []\n",
    "for i in range(2):\n",
    "    ## Identify the features of importance from Random Forest\n",
    "    feature_import.append(feature_importance(model[i], X[i][0]))\n",
    "    ## Multivariable Linear Regression\n",
    "    # LinReg(x, y, feature_import)\n",
    "print(feature_import[0][2])\n",
    "print('\\n')\n",
    "print(feature_import[1][2])"
   ]
  },
  {
   "cell_type": "code",
   "execution_count": 32,
   "metadata": {},
   "outputs": [
    {
     "output_type": "execute_result",
     "data": {
      "text/plain": [
       "[('Operator', 0.0),\n",
       " ('Water depth', 0.34),\n",
       " ('a1', 0.27),\n",
       " ('Turbine rating (kW)', 0.15),\n",
       " ('Type', 0.08),\n",
       " ('Metocean', 0.04),\n",
       " ('Region', 0.11)]"
      ]
     },
     "metadata": {},
     "execution_count": 32
    }
   ],
   "source": [
    "[('Operator', 0.04), ('Water depth', 0.04), ('a1', 0.29), ('Turbine rating (kW)', 0.41), ('Type', 0.13), ('Metocean', 0.01), ('Region', 0.08)]\n",
    "\n",
    "\n",
    "[('Operator', 0.0), ('Water depth', 0.34), ('a1', 0.27), ('Turbine rating (kW)', 0.15), ('Type', 0.08), ('Metocean', 0.04), ('Region', 0.11)]"
   ]
  }
 ]
}