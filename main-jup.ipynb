{
 "metadata": {
  "language_info": {
   "codemirror_mode": {
    "name": "ipython",
    "version": 3
   },
   "file_extension": ".py",
   "mimetype": "text/x-python",
   "name": "python",
   "nbconvert_exporter": "python",
   "pygments_lexer": "ipython3",
   "version": "3.8.2-final"
  },
  "orig_nbformat": 2,
  "kernelspec": {
   "name": "python3",
   "display_name": "Python 3.8.2 64-bit",
   "metadata": {
    "interpreter": {
     "hash": "2db524e06e9f5f4ffedc911c917cb75e12dbc923643829bf417064a77eb14d37"
    }
   }
  }
 },
 "nbformat": 4,
 "nbformat_minor": 2,
 "cells": [
  {
   "source": [
    "<h1> Import libraries here </h1>"
   ],
   "cell_type": "markdown",
   "metadata": {}
  },
  {
   "source": [
    "import sklearn as sk\n",
    "import numpy as np\n",
    "import pandas as pd\n",
    "import math \n",
    "from sklearn.model_selection import train_test_split\n",
    "from sklearn.preprocessing import LabelEncoder\n",
    "from sklearn.ensemble import RandomForestRegressor\n",
    "from sklearn.metrics import mean_absolute_error\n",
    "from sklearn import linear_model\n",
    "from sklearn.preprocessing import OneHotEncoder\n",
    "\n",
    "## For Data visualisation \n",
    "import matplotlib.pyplot as plt\n",
    "from matplotlib.colors import ListedColormap\n",
    "import seaborn as sn\n",
    "# from adspy_shared_utilities import plot_class_regions_for_classifier_subplot #Save to git first\n"
   ],
   "cell_type": "code",
   "metadata": {},
   "execution_count": 1,
   "outputs": []
  },
  {
   "source": [
    "<h2>1. DATA PROCESSING</h2>"
   ],
   "cell_type": "markdown",
   "metadata": {}
  },
  {
   "source": [
    "<h3>Functions</h3>"
   ],
   "cell_type": "markdown",
   "metadata": {}
  },
  {
   "cell_type": "code",
   "execution_count": 2,
   "metadata": {},
   "outputs": [],
   "source": [
    "def split(x, y, train = 0.8, test = 0): \n",
    "    valid = 1 - train - test\n",
    "    x_trainy, x_valid, y_trainy, y_valid = train_test_split(x, y, train_size = (train+test), test_size = valid)\n",
    "    if test > 0:\n",
    "        x_train, x_test, y_train, y_test = (\n",
    "            train_test_split(x_trainy, y_trainy, train_size = train/(train+test), test_size = test/(train+test)))\n",
    "    else:\n",
    "        x_train, y_train =  x_trainy, y_trainy\n",
    "        x_train, y_train =  x_trainy, y_trainy\n",
    "        x_test, y_test = 0, 0\n",
    "    return x_train, x_valid, x_test, y_train, y_valid, y_test\n",
    "\n",
    "def score_RandomForest(x_train, x_valid, y_train, y_valid):\n",
    "    model = RandomForestRegressor(n_estimators=100)\n",
    "    model.fit(x_train, y_train)\n",
    "    preds = model.predict(x_valid)\n",
    "    return model, mean_absolute_error(y_valid, preds)\n",
    "\n",
    "## Keep getting different variables with the highest importance??\n",
    "def LinReg (X, y, function, var):\n",
    "    feature_list, importances, feature_importances = function\n",
    "    sorted_by_second = sorted(feature_importances, key=lambda tup: tup[1], reverse=True)\n",
    "    ## Edit ind_var to only use indepent variables \n",
    "    ind_var = var\n",
    "    X = X[ind_var]\n",
    "    regr = linear_model.LinearRegression()\n",
    "    regr.fit(X,y)\n",
    "    return regr\n",
    "\n",
    "def feature_importance(model, x_train):\n",
    "    feature_list = list(x_train.columns)\n",
    "    importances = model.feature_importances_\n",
    "    feature_importances = [(feature, round(importance, 2)) for feature, importance in zip(feature_list, importances)]\n",
    "    return feature_list, importances, feature_importances\n"
   ]
  },
  {
   "source": [
    "<h3> Preprocessing </h3>"
   ],
   "cell_type": "markdown",
   "metadata": {}
  },
  {
   "cell_type": "code",
   "execution_count": 3,
   "metadata": {},
   "outputs": [
    {
     "output_type": "stream",
     "name": "stdout",
     "text": [
      "\n    Project Ref No.  Operator  Water depth   a1  Turbine rating (kW)  \\\n0              1085         0            0  250               4000.0   \n1              1086         0            0  250               4000.0   \n2              1087         0            0  250                450.0   \n3              1088         0            0  240               2300.0   \n4              1089         1            0  240               2450.0   \n..              ...       ...          ...  ...                  ...   \n61             1146         0            2   57                530.0   \n62             1147         0            2   45               1100.0   \n63             1148         0            2   45               1160.0   \n64             1149         0            2   40                320.0   \n65             1150         0            2   30               1000.0   \n\n    Blade length (m)  Tower height (m)  Nacelle Weights  \\\n0               69.0             207.0             90.0   \n1               69.0             207.0             90.0   \n2                NaN               NaN             68.0   \n3                NaN               NaN             66.0   \n4              100.5             270.0            105.0   \n..               ...               ...              ...   \n61              30.0              90.0              NaN   \n62              80.0             240.0             12.0   \n63               NaN               NaN             10.0   \n64              95.0             285.0              5.0   \n65               NaN               NaN              6.0   \n\n    Single Blade Weight (te)  Built duration  Type  Metocean    0    1    2  \\\n0                       22.0            36.0     4         1  0.0  0.0  0.0   \n1                       22.0            31.0     4         1  0.0  0.0  0.0   \n2                       21.5             NaN     4         1  0.0  0.0  0.0   \n3                       20.0             NaN     4         1  0.0  0.0  0.0   \n4                       17.7            42.0     4         1  0.0  0.0  0.0   \n..                       ...             ...   ...       ...  ...  ...  ...   \n61                       4.7             NaN     0         0  0.0  1.0  0.0   \n62                       5.6             NaN     0         1  0.0  1.0  0.0   \n63                       5.6             NaN     0         0  0.0  1.0  0.0   \n64                      25.0             NaN     5         1  0.0  1.0  0.0   \n65                      15.0             NaN     0         1  0.0  1.0  0.0   \n\n      3    4  \n0   0.0  1.0  \n1   1.0  0.0  \n2   1.0  0.0  \n3   1.0  0.0  \n4   0.0  1.0  \n..  ...  ...  \n61  0.0  0.0  \n62  0.0  0.0  \n63  0.0  0.0  \n64  0.0  0.0  \n65  0.0  0.0  \n\n[66 rows x 17 columns]\n"
     ]
    }
   ],
   "source": [
    "dataPure = pd.read_excel(\"Digital_Data.xlsx\")\n",
    "data = dataPure.copy()\n",
    "data = data.replace(to_replace = 0, value = np.NaN)\n",
    "label_encoder = LabelEncoder()\n",
    "s = (data.dtypes == 'object')\n",
    "cat_cols = list(s[s].index)\n",
    "cat_cols.remove('Region')\n",
    "for col in cat_cols:\n",
    "    data[col] = label_encoder.fit_transform(data[col].astype(str))\n",
    "\n",
    "# Apply one-hot encoder to each column with categorical data\n",
    "OH_encoder = OneHotEncoder(handle_unknown='ignore', sparse=False)\n",
    "OH_cols_data = pd.DataFrame(OH_encoder.fit_transform(np.array(data['Region']).reshape(-1,1)))\n",
    "\n",
    "print()\n",
    "# One-hot encoding removed index; put it back\n",
    "OH_cols_data.index = data.index\n",
    "\n",
    "# Remove categorical columns (will replace with one-hot encoding)\n",
    "num_data = data.drop(['Region'], axis=1)\n",
    "\n",
    "# Add one-hot encoded columns to numerical features\n",
    "data = pd.concat([num_data, OH_cols_data], axis=1)\n",
    "\n",
    "print(data)\n",
    "\n",
    "##Dropping Features HERE\n",
    "data = data.drop([\"Project Ref No.\", \"Blade length (m)\", \"Tower height (m)\",\"Built duration\"], axis = 1)\n",
    "\n",
    "data_sets = [data.drop([\"Single Blade Weight (te)\"], axis = 1), data.drop([\"Nacelle Weights\"], axis = 1)]\n",
    "X = []\n",
    "Y = []\n",
    "for i in range(2):\n",
    "    data_sets[i] = data_sets[i].dropna()\n",
    "    x = data_sets[i].drop(columns = data_sets[i].columns[4])\n",
    "    y = data_sets[i][data_sets[i].columns[4]]\n",
    "    x_train, x_valid, x_test, y_train, y_valid, y_test = split(x,y)\n",
    "    X.append([x_train, x_valid, x_test])\n",
    "    Y.append([y_train, y_valid, y_test])"
   ]
  },
  {
   "source": [
    "<h3>Random Forrest</h3>"
   ],
   "cell_type": "markdown",
   "metadata": {}
  },
  {
   "cell_type": "code",
   "execution_count": 4,
   "metadata": {},
   "outputs": [
    {
     "output_type": "stream",
     "name": "stdout",
     "text": [
      "11.40344\n4.043833333333332\n"
     ]
    }
   ],
   "source": [
    "model = []\n",
    "for i in range(2):\n",
    "    m, mae = score_RandomForest(X[i][0], X[i][1], Y[i][0], Y[i][1])\n",
    "    model.append(m)\n",
    "    print(mae)"
   ]
  },
  {
   "source": [
    "<h3>Lin Regression and Independent Variables</h3>\n"
   ],
   "cell_type": "markdown",
   "metadata": {}
  },
  {
   "cell_type": "code",
   "execution_count": 5,
   "metadata": {},
   "outputs": [
    {
     "output_type": "stream",
     "name": "stdout",
     "text": [
      "[('Operator', 0.02), ('Water depth', 0.02), ('a1', 0.34), ('Turbine rating (kW)', 0.41), ('Type', 0.14), ('Metocean', 0.01), (0, 0.02), (1, 0.01), (2, 0.01), (3, 0.02), (4, 0.0)]\n['a1' 'Turbine rating (kW)' 'Type']\n[ 0.03647248  0.00024014 -0.12845157]\n9.834225970505777\n\n\n[('Operator', 0.0), ('Water depth', 0.22), ('a1', 0.22), ('Turbine rating (kW)', 0.25), ('Type', 0.1), ('Metocean', 0.06), (0, 0.02), (1, 0.03), (2, 0.04), (3, 0.01), (4, 0.04)]\n['Water depth' 'a1' 'Turbine rating (kW)' 'Type']\n[-3.10093221e+00  9.01530483e-03 -1.83698761e-04  1.64884044e-01]\n17.034904886148148\n\n\n"
     ]
    }
   ],
   "source": [
    "feature_import = []\n",
    "reg = []\n",
    "for i in range(2):\n",
    "    ## Identify the features of importance from Random Forest\n",
    "    feature_import.append(feature_importance(model[i], X[i][0]))\n",
    "    ## Multivariable Linear Regression\n",
    "    take_forward = feature_import[i][1] > 0.1\n",
    "    reg.append(LinReg(x, y, feature_import[i], np.array(feature_import[i][0])[take_forward]))\n",
    "    print(feature_import[i][2])\n",
    "    print(np.array(feature_import[i][0])[take_forward])\n",
    "    print(reg[i].coef_)\n",
    "    print(reg[i].intercept_)\n",
    "    print('\\n')"
   ]
  }
 ]
}